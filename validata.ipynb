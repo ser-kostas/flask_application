{
 "cells": [
  {
   "cell_type": "code",
   "id": "initial_id",
   "metadata": {
    "collapsed": true,
    "ExecuteTime": {
     "end_time": "2024-12-03T08:08:46.874748Z",
     "start_time": "2024-12-03T08:08:42.705652Z"
    }
   },
   "source": "import pandas as pd",
   "outputs": [],
   "execution_count": 1
  },
  {
   "metadata": {
    "ExecuteTime": {
     "end_time": "2024-12-03T08:09:10.393834Z",
     "start_time": "2024-12-03T08:09:09.889969Z"
    }
   },
   "cell_type": "code",
   "source": [
    "# Load the dataset\n",
    "data_loan = pd.read_csv('loan_approval_dataset.csv')\n",
    "\n",
    "data_loan.head()"
   ],
   "id": "a5fd753ecd91d8da",
   "outputs": [
    {
     "data": {
      "text/plain": [
       "   loan_id   no_of_dependents      education  self_employed   income_annum  \\\n",
       "0        1                  2       Graduate             No        9600000   \n",
       "1        2                  0   Not Graduate            Yes        4100000   \n",
       "2        3                  3       Graduate             No        9100000   \n",
       "3        4                  3       Graduate             No        8200000   \n",
       "4        5                  5   Not Graduate            Yes        9800000   \n",
       "\n",
       "    loan_amount   loan_term   cibil_score   residential_assets_value  \\\n",
       "0      29900000          12           778                    2400000   \n",
       "1      12200000           8           417                    2700000   \n",
       "2      29700000          20           506                    7100000   \n",
       "3      30700000           8           467                   18200000   \n",
       "4      24200000          20           382                   12400000   \n",
       "\n",
       "    commercial_assets_value   luxury_assets_value   bank_asset_value  \\\n",
       "0                  17600000              22700000            8000000   \n",
       "1                   2200000               8800000            3300000   \n",
       "2                   4500000              33300000           12800000   \n",
       "3                   3300000              23300000            7900000   \n",
       "4                   8200000              29400000            5000000   \n",
       "\n",
       "   loan_status  \n",
       "0     Approved  \n",
       "1     Rejected  \n",
       "2     Rejected  \n",
       "3     Rejected  \n",
       "4     Rejected  "
      ],
      "text/html": [
       "<div>\n",
       "<style scoped>\n",
       "    .dataframe tbody tr th:only-of-type {\n",
       "        vertical-align: middle;\n",
       "    }\n",
       "\n",
       "    .dataframe tbody tr th {\n",
       "        vertical-align: top;\n",
       "    }\n",
       "\n",
       "    .dataframe thead th {\n",
       "        text-align: right;\n",
       "    }\n",
       "</style>\n",
       "<table border=\"1\" class=\"dataframe\">\n",
       "  <thead>\n",
       "    <tr style=\"text-align: right;\">\n",
       "      <th></th>\n",
       "      <th>loan_id</th>\n",
       "      <th>no_of_dependents</th>\n",
       "      <th>education</th>\n",
       "      <th>self_employed</th>\n",
       "      <th>income_annum</th>\n",
       "      <th>loan_amount</th>\n",
       "      <th>loan_term</th>\n",
       "      <th>cibil_score</th>\n",
       "      <th>residential_assets_value</th>\n",
       "      <th>commercial_assets_value</th>\n",
       "      <th>luxury_assets_value</th>\n",
       "      <th>bank_asset_value</th>\n",
       "      <th>loan_status</th>\n",
       "    </tr>\n",
       "  </thead>\n",
       "  <tbody>\n",
       "    <tr>\n",
       "      <th>0</th>\n",
       "      <td>1</td>\n",
       "      <td>2</td>\n",
       "      <td>Graduate</td>\n",
       "      <td>No</td>\n",
       "      <td>9600000</td>\n",
       "      <td>29900000</td>\n",
       "      <td>12</td>\n",
       "      <td>778</td>\n",
       "      <td>2400000</td>\n",
       "      <td>17600000</td>\n",
       "      <td>22700000</td>\n",
       "      <td>8000000</td>\n",
       "      <td>Approved</td>\n",
       "    </tr>\n",
       "    <tr>\n",
       "      <th>1</th>\n",
       "      <td>2</td>\n",
       "      <td>0</td>\n",
       "      <td>Not Graduate</td>\n",
       "      <td>Yes</td>\n",
       "      <td>4100000</td>\n",
       "      <td>12200000</td>\n",
       "      <td>8</td>\n",
       "      <td>417</td>\n",
       "      <td>2700000</td>\n",
       "      <td>2200000</td>\n",
       "      <td>8800000</td>\n",
       "      <td>3300000</td>\n",
       "      <td>Rejected</td>\n",
       "    </tr>\n",
       "    <tr>\n",
       "      <th>2</th>\n",
       "      <td>3</td>\n",
       "      <td>3</td>\n",
       "      <td>Graduate</td>\n",
       "      <td>No</td>\n",
       "      <td>9100000</td>\n",
       "      <td>29700000</td>\n",
       "      <td>20</td>\n",
       "      <td>506</td>\n",
       "      <td>7100000</td>\n",
       "      <td>4500000</td>\n",
       "      <td>33300000</td>\n",
       "      <td>12800000</td>\n",
       "      <td>Rejected</td>\n",
       "    </tr>\n",
       "    <tr>\n",
       "      <th>3</th>\n",
       "      <td>4</td>\n",
       "      <td>3</td>\n",
       "      <td>Graduate</td>\n",
       "      <td>No</td>\n",
       "      <td>8200000</td>\n",
       "      <td>30700000</td>\n",
       "      <td>8</td>\n",
       "      <td>467</td>\n",
       "      <td>18200000</td>\n",
       "      <td>3300000</td>\n",
       "      <td>23300000</td>\n",
       "      <td>7900000</td>\n",
       "      <td>Rejected</td>\n",
       "    </tr>\n",
       "    <tr>\n",
       "      <th>4</th>\n",
       "      <td>5</td>\n",
       "      <td>5</td>\n",
       "      <td>Not Graduate</td>\n",
       "      <td>Yes</td>\n",
       "      <td>9800000</td>\n",
       "      <td>24200000</td>\n",
       "      <td>20</td>\n",
       "      <td>382</td>\n",
       "      <td>12400000</td>\n",
       "      <td>8200000</td>\n",
       "      <td>29400000</td>\n",
       "      <td>5000000</td>\n",
       "      <td>Rejected</td>\n",
       "    </tr>\n",
       "  </tbody>\n",
       "</table>\n",
       "</div>"
      ]
     },
     "execution_count": 2,
     "metadata": {},
     "output_type": "execute_result"
    }
   ],
   "execution_count": 2
  },
  {
   "metadata": {
    "ExecuteTime": {
     "end_time": "2024-12-03T08:09:13.163075Z",
     "start_time": "2024-12-03T08:09:13.133686Z"
    }
   },
   "cell_type": "code",
   "source": [
    "# Investigating data and looking for any missing values\n",
    "data_loan.info()\n",
    "print(\"A list with all the null values of the dataset\", data_loan.isnull().sum())"
   ],
   "id": "bdd6f202bac73068",
   "outputs": [
    {
     "name": "stdout",
     "output_type": "stream",
     "text": [
      "<class 'pandas.core.frame.DataFrame'>\n",
      "RangeIndex: 4269 entries, 0 to 4268\n",
      "Data columns (total 13 columns):\n",
      " #   Column                     Non-Null Count  Dtype \n",
      "---  ------                     --------------  ----- \n",
      " 0   loan_id                    4269 non-null   int64 \n",
      " 1    no_of_dependents          4269 non-null   int64 \n",
      " 2    education                 4269 non-null   object\n",
      " 3    self_employed             4269 non-null   object\n",
      " 4    income_annum              4269 non-null   int64 \n",
      " 5    loan_amount               4269 non-null   int64 \n",
      " 6    loan_term                 4269 non-null   int64 \n",
      " 7    cibil_score               4269 non-null   int64 \n",
      " 8    residential_assets_value  4269 non-null   int64 \n",
      " 9    commercial_assets_value   4269 non-null   int64 \n",
      " 10   luxury_assets_value       4269 non-null   int64 \n",
      " 11   bank_asset_value          4269 non-null   int64 \n",
      " 12   loan_status               4269 non-null   object\n",
      "dtypes: int64(10), object(3)\n",
      "memory usage: 433.7+ KB\n",
      "A list with all the null values of the dataset loan_id                      0\n",
      " no_of_dependents            0\n",
      " education                   0\n",
      " self_employed               0\n",
      " income_annum                0\n",
      " loan_amount                 0\n",
      " loan_term                   0\n",
      " cibil_score                 0\n",
      " residential_assets_value    0\n",
      " commercial_assets_value     0\n",
      " luxury_assets_value         0\n",
      " bank_asset_value            0\n",
      " loan_status                 0\n",
      "dtype: int64\n"
     ]
    }
   ],
   "execution_count": 3
  },
  {
   "metadata": {
    "ExecuteTime": {
     "end_time": "2024-12-03T08:09:14.371684Z",
     "start_time": "2024-12-03T08:09:14.358947Z"
    }
   },
   "cell_type": "code",
   "source": [
    "# Checking the columns names\n",
    "data_loan.columns"
   ],
   "id": "fd8b78609bf4a264",
   "outputs": [
    {
     "data": {
      "text/plain": [
       "Index(['loan_id', ' no_of_dependents', ' education', ' self_employed',\n",
       "       ' income_annum', ' loan_amount', ' loan_term', ' cibil_score',\n",
       "       ' residential_assets_value', ' commercial_assets_value',\n",
       "       ' luxury_assets_value', ' bank_asset_value', ' loan_status'],\n",
       "      dtype='object')"
      ]
     },
     "execution_count": 4,
     "metadata": {},
     "output_type": "execute_result"
    }
   ],
   "execution_count": 4
  },
  {
   "metadata": {
    "ExecuteTime": {
     "end_time": "2024-12-03T08:09:15.702323Z",
     "start_time": "2024-12-03T08:09:15.680644Z"
    }
   },
   "cell_type": "code",
   "source": [
    "# Keeping only the data provided in the exercise\n",
    "data = data_loan[[' income_annum', ' cibil_score',  ' loan_amount', ' loan_term', ' self_employed',  ' loan_status']]"
   ],
   "id": "fbb897539f1829ee",
   "outputs": [],
   "execution_count": 5
  },
  {
   "metadata": {
    "ExecuteTime": {
     "end_time": "2024-12-03T08:09:16.669001Z",
     "start_time": "2024-12-03T08:09:16.640835Z"
    }
   },
   "cell_type": "code",
   "source": "data.head()",
   "id": "2103a83a5cb6100b",
   "outputs": [
    {
     "data": {
      "text/plain": [
       "   income_annum  cibil_score  loan_amount  loan_term self_employed loan_status\n",
       "0       9600000          778     29900000         12            No    Approved\n",
       "1       4100000          417     12200000          8           Yes    Rejected\n",
       "2       9100000          506     29700000         20            No    Rejected\n",
       "3       8200000          467     30700000          8            No    Rejected\n",
       "4       9800000          382     24200000         20           Yes    Rejected"
      ],
      "text/html": [
       "<div>\n",
       "<style scoped>\n",
       "    .dataframe tbody tr th:only-of-type {\n",
       "        vertical-align: middle;\n",
       "    }\n",
       "\n",
       "    .dataframe tbody tr th {\n",
       "        vertical-align: top;\n",
       "    }\n",
       "\n",
       "    .dataframe thead th {\n",
       "        text-align: right;\n",
       "    }\n",
       "</style>\n",
       "<table border=\"1\" class=\"dataframe\">\n",
       "  <thead>\n",
       "    <tr style=\"text-align: right;\">\n",
       "      <th></th>\n",
       "      <th>income_annum</th>\n",
       "      <th>cibil_score</th>\n",
       "      <th>loan_amount</th>\n",
       "      <th>loan_term</th>\n",
       "      <th>self_employed</th>\n",
       "      <th>loan_status</th>\n",
       "    </tr>\n",
       "  </thead>\n",
       "  <tbody>\n",
       "    <tr>\n",
       "      <th>0</th>\n",
       "      <td>9600000</td>\n",
       "      <td>778</td>\n",
       "      <td>29900000</td>\n",
       "      <td>12</td>\n",
       "      <td>No</td>\n",
       "      <td>Approved</td>\n",
       "    </tr>\n",
       "    <tr>\n",
       "      <th>1</th>\n",
       "      <td>4100000</td>\n",
       "      <td>417</td>\n",
       "      <td>12200000</td>\n",
       "      <td>8</td>\n",
       "      <td>Yes</td>\n",
       "      <td>Rejected</td>\n",
       "    </tr>\n",
       "    <tr>\n",
       "      <th>2</th>\n",
       "      <td>9100000</td>\n",
       "      <td>506</td>\n",
       "      <td>29700000</td>\n",
       "      <td>20</td>\n",
       "      <td>No</td>\n",
       "      <td>Rejected</td>\n",
       "    </tr>\n",
       "    <tr>\n",
       "      <th>3</th>\n",
       "      <td>8200000</td>\n",
       "      <td>467</td>\n",
       "      <td>30700000</td>\n",
       "      <td>8</td>\n",
       "      <td>No</td>\n",
       "      <td>Rejected</td>\n",
       "    </tr>\n",
       "    <tr>\n",
       "      <th>4</th>\n",
       "      <td>9800000</td>\n",
       "      <td>382</td>\n",
       "      <td>24200000</td>\n",
       "      <td>20</td>\n",
       "      <td>Yes</td>\n",
       "      <td>Rejected</td>\n",
       "    </tr>\n",
       "  </tbody>\n",
       "</table>\n",
       "</div>"
      ]
     },
     "execution_count": 6,
     "metadata": {},
     "output_type": "execute_result"
    }
   ],
   "execution_count": 6
  },
  {
   "metadata": {
    "ExecuteTime": {
     "end_time": "2024-12-03T08:09:18.723605Z",
     "start_time": "2024-12-03T08:09:18.671576Z"
    }
   },
   "cell_type": "code",
   "source": [
    "# Losing the empty space at the beginning of the loan_status and self_employed\n",
    "data.loc[data[' loan_status'].isin([' Approved', ' Rejected']), ' loan_status'] = data[' loan_status'].replace({' Approved':'Approved', ' Rejected':'Rejected'})\n",
    "data.loc[data[' self_employed'].isin([' Yes', ' No']), ' self_employed'] = data[' self_employed'].replace({' Yes':'Yes', ' No':'No'})\n",
    "\n",
    "# Creating dummies for the self_employed column\n",
    "data = pd.get_dummies(data, columns=[' self_employed'])\n",
    "\n",
    "# Inspect the new data\n",
    "data.head()"
   ],
   "id": "128f36baa473063f",
   "outputs": [
    {
     "data": {
      "text/plain": [
       "   income_annum  cibil_score  loan_amount  loan_term loan_status  \\\n",
       "0       9600000          778     29900000         12    Approved   \n",
       "1       4100000          417     12200000          8    Rejected   \n",
       "2       9100000          506     29700000         20    Rejected   \n",
       "3       8200000          467     30700000          8    Rejected   \n",
       "4       9800000          382     24200000         20    Rejected   \n",
       "\n",
       "   self_employed_No  self_employed_Yes  \n",
       "0              True              False  \n",
       "1             False               True  \n",
       "2              True              False  \n",
       "3              True              False  \n",
       "4             False               True  "
      ],
      "text/html": [
       "<div>\n",
       "<style scoped>\n",
       "    .dataframe tbody tr th:only-of-type {\n",
       "        vertical-align: middle;\n",
       "    }\n",
       "\n",
       "    .dataframe tbody tr th {\n",
       "        vertical-align: top;\n",
       "    }\n",
       "\n",
       "    .dataframe thead th {\n",
       "        text-align: right;\n",
       "    }\n",
       "</style>\n",
       "<table border=\"1\" class=\"dataframe\">\n",
       "  <thead>\n",
       "    <tr style=\"text-align: right;\">\n",
       "      <th></th>\n",
       "      <th>income_annum</th>\n",
       "      <th>cibil_score</th>\n",
       "      <th>loan_amount</th>\n",
       "      <th>loan_term</th>\n",
       "      <th>loan_status</th>\n",
       "      <th>self_employed_No</th>\n",
       "      <th>self_employed_Yes</th>\n",
       "    </tr>\n",
       "  </thead>\n",
       "  <tbody>\n",
       "    <tr>\n",
       "      <th>0</th>\n",
       "      <td>9600000</td>\n",
       "      <td>778</td>\n",
       "      <td>29900000</td>\n",
       "      <td>12</td>\n",
       "      <td>Approved</td>\n",
       "      <td>True</td>\n",
       "      <td>False</td>\n",
       "    </tr>\n",
       "    <tr>\n",
       "      <th>1</th>\n",
       "      <td>4100000</td>\n",
       "      <td>417</td>\n",
       "      <td>12200000</td>\n",
       "      <td>8</td>\n",
       "      <td>Rejected</td>\n",
       "      <td>False</td>\n",
       "      <td>True</td>\n",
       "    </tr>\n",
       "    <tr>\n",
       "      <th>2</th>\n",
       "      <td>9100000</td>\n",
       "      <td>506</td>\n",
       "      <td>29700000</td>\n",
       "      <td>20</td>\n",
       "      <td>Rejected</td>\n",
       "      <td>True</td>\n",
       "      <td>False</td>\n",
       "    </tr>\n",
       "    <tr>\n",
       "      <th>3</th>\n",
       "      <td>8200000</td>\n",
       "      <td>467</td>\n",
       "      <td>30700000</td>\n",
       "      <td>8</td>\n",
       "      <td>Rejected</td>\n",
       "      <td>True</td>\n",
       "      <td>False</td>\n",
       "    </tr>\n",
       "    <tr>\n",
       "      <th>4</th>\n",
       "      <td>9800000</td>\n",
       "      <td>382</td>\n",
       "      <td>24200000</td>\n",
       "      <td>20</td>\n",
       "      <td>Rejected</td>\n",
       "      <td>False</td>\n",
       "      <td>True</td>\n",
       "    </tr>\n",
       "  </tbody>\n",
       "</table>\n",
       "</div>"
      ]
     },
     "execution_count": 7,
     "metadata": {},
     "output_type": "execute_result"
    }
   ],
   "execution_count": 7
  },
  {
   "metadata": {
    "ExecuteTime": {
     "end_time": "2024-12-03T08:09:20.538182Z",
     "start_time": "2024-12-03T08:09:20.528366Z"
    }
   },
   "cell_type": "code",
   "source": [
    "# Splitting the data to independent and the dependent variables\n",
    "X = data.drop([' loan_status', ' self_employed_No'], axis=1)\n",
    "y = data[[' loan_status']].values.reshape(-1)"
   ],
   "id": "422fda223a2c7a7b",
   "outputs": [],
   "execution_count": 8
  },
  {
   "metadata": {
    "ExecuteTime": {
     "end_time": "2024-12-03T08:09:30.899237Z",
     "start_time": "2024-12-03T08:09:21.408386Z"
    }
   },
   "cell_type": "code",
   "source": [
    "# Split the data to train and test set\n",
    "from sklearn.model_selection import train_test_split\n",
    "\n",
    "X_train, X_test, y_train, y_test = train_test_split(X, y, test_size=0.2, random_state=42)"
   ],
   "id": "3b33938e782ad7b3",
   "outputs": [],
   "execution_count": 9
  },
  {
   "metadata": {
    "ExecuteTime": {
     "end_time": "2024-12-03T08:09:39.933703Z",
     "start_time": "2024-12-03T08:09:37.149514Z"
    }
   },
   "cell_type": "code",
   "source": [
    "# First we will create the KNN algorithm\n",
    "from sklearn.neighbors import KNeighborsClassifier\n",
    "from sklearn.preprocessing import StandardScaler\n",
    "from sklearn.metrics import accuracy_score, precision_score, recall_score, f1_score, classification_report\n",
    "\n",
    "# Standardization function will standardize the numeric data in order to make better predictions\n",
    "def standardization(Xtrain, Xtest):\n",
    "    scaler = StandardScaler()\n",
    "    \n",
    "    # We are making sure that only the numeric data will be standardized\n",
    "    x_train_num = Xtrain.select_dtypes(include=['float64', 'int64'])\n",
    "    x_test_num = Xtest.select_dtypes(include=['float64', 'int64'])\n",
    "    # We are transforming the X_test_numerical_scaled based on the previous scale\n",
    "    X_train_numerical_scaled = scaler.fit_transform(x_train_num)\n",
    "    X_test_numerical_scaled = scaler.transform(x_test_num)\n",
    "    \n",
    "    # Separate binary data\n",
    "    X_train_binary = Xtrain.select_dtypes(include=['bool'])\n",
    "    X_test_binary = Xtest.select_dtypes(include=['bool'])\n",
    "    X_train_binary = X_train_binary.reset_index(drop=True)\n",
    "    X_test_binary = X_test_binary.reset_index(drop=True)\n",
    "    \n",
    "    # Scale numerical data\n",
    "    X_train_numerical_scaled = pd.DataFrame(X_train_numerical_scaled, columns=x_train_num.columns).reset_index(drop=True)\n",
    "    X_test_numerical_scaled = pd.DataFrame(X_test_numerical_scaled, columns=x_test_num.columns).reset_index(drop=True)\n",
    "    X_train_numerical_scaled = X_train_numerical_scaled.fillna(X_train_numerical_scaled.mean())\n",
    "    X_test_numerical_scaled = X_test_numerical_scaled.fillna(X_test_numerical_scaled.mean())\n",
    "    \n",
    "    # Combine scaled numerical and binary features\n",
    "    X_train_scaled = pd.concat([pd.DataFrame(X_train_numerical_scaled), X_train_binary], axis=1)\n",
    "    X_test_scaled = pd.concat([pd.DataFrame(X_test_numerical_scaled), X_test_binary], axis=1)\n",
    "    \n",
    "    #Make sure no null value exists from the previous\n",
    "    print(X_train_scaled.isnull().sum())\n",
    "    \n",
    "    # Convert column names to strings\n",
    "    X_train_scaled.columns = X_train_scaled.columns.astype(str)\n",
    "    X_test_scaled.columns = X_test_scaled.columns.astype(str)\n",
    "    \n",
    "    return X_train_scaled, X_test_scaled\n",
    "\n",
    "\n",
    "# Evaluation function \n",
    "def evaluate_model(y_true, y_pred, model_name):\n",
    "    print(f\"Evaluation metrics for {model_name}:\")\n",
    "    print(f\"Accuracy: {accuracy_score(y_true, y_pred):.4f}\")\n",
    "    print(f\"Precision: {precision_score(y_true, y_pred, average='macro'):.4f}\")\n",
    "    print(f\"Recall: {recall_score(y_true, y_pred, average='macro'):.4f}\")\n",
    "    print(f\"F1-Score: {f1_score(y_true, y_pred, average='macro'):.4f}\")\n",
    "    print(\"-\" * 30)\n",
    "    return accuracy_score(y_true, y_pred), precision_score(y_true, y_pred, average='macro'), recall_score(y_true, y_pred, average='macro'), f1_score(y_true, y_pred, average='macro')\n",
    "    \n",
    "    \n",
    "# Creating a knn-classifier function which finds the best n_neighbors for which max the accuracy of the model\n",
    "def knn_class(xtrain, xtest, ytrain, ytest):\n",
    "    max_accuracy = 0\n",
    "    best_k = None\n",
    "    max_pred = 0\n",
    "    x_train_scaled, x_test_scaled = standardization(Xtrain=xtrain, Xtest=xtest)\n",
    "    for i in range(1, 8):\n",
    "        knn = KNeighborsClassifier(n_neighbors=i)\n",
    "        knn.fit(x_train_scaled, ytrain)\n",
    "        \n",
    "        knn.score(x_test_scaled, ytest)\n",
    "        y_pred = knn.predict(x_test_scaled)\n",
    "        accuracy = accuracy_score(y_test, y_pred)\n",
    "        print(f\"Accuracy for {i} is: {accuracy}\")\n",
    "        # Update max_accuracy and best_k if current accuracy is higher\n",
    "        if accuracy > max_accuracy:\n",
    "            max_accuracy = accuracy\n",
    "            best_k = i\n",
    "            max_pred = y_pred\n",
    "        \n",
    "    # Print accuracy for informational purposes (optional)\n",
    "    print(f\"For {best_k} neighbors the model has the best accuracy, with : {max_accuracy}\")\n",
    "    return best_k, max_accuracy, max_pred\n",
    "\n",
    "# Calling the knn_classification function to create the knn model \n",
    "best_n , accuracy_sc, knn_pred  = knn_class(xtrain=X_train, xtest=X_test, ytrain=y_train, ytest=y_test)"
   ],
   "id": "68019503553c0dcf",
   "outputs": [
    {
     "name": "stdout",
     "output_type": "stream",
     "text": [
      "income_annum         0\n",
      "cibil_score          0\n",
      "loan_amount          0\n",
      "loan_term            0\n",
      "self_employed_Yes    0\n",
      "dtype: int64\n",
      "Accuracy for 1 is: 0.9238875878220141\n",
      "Accuracy for 2 is: 0.9285714285714286\n",
      "Accuracy for 3 is: 0.9402810304449649\n",
      "Accuracy for 4 is: 0.9414519906323185\n",
      "Accuracy for 5 is: 0.9355971896955504\n",
      "Accuracy for 6 is: 0.949648711943794\n",
      "Accuracy for 7 is: 0.9402810304449649\n",
      "For 6 neighbors the model has the best accuracy, with : 0.949648711943794\n"
     ]
    }
   ],
   "execution_count": 10
  },
  {
   "metadata": {
    "ExecuteTime": {
     "end_time": "2024-12-03T08:09:54.139732Z",
     "start_time": "2024-12-03T08:09:48.458650Z"
    }
   },
   "cell_type": "code",
   "source": [
    "from sklearn.tree import DecisionTreeClassifier\n",
    "\n",
    "# Decision Tree Classifier\n",
    "d_tree = DecisionTreeClassifier()\n",
    "d_tree.fit(X_train, y_train)\n",
    "\n",
    "# Predictions\n",
    "tree_pred = d_tree.predict(X_test)\n",
    "\n",
    "print(accuracy_score(y_test, tree_pred))"
   ],
   "id": "d39c6b23819e0c2a",
   "outputs": [
    {
     "name": "stdout",
     "output_type": "stream",
     "text": [
      "0.9800936768149883\n"
     ]
    }
   ],
   "execution_count": 11
  },
  {
   "metadata": {
    "ExecuteTime": {
     "end_time": "2024-12-03T08:09:58.349860Z",
     "start_time": "2024-12-03T08:09:58.291281Z"
    }
   },
   "cell_type": "code",
   "source": [
    "# Checking the decision tree accuracy using the standardized X values\n",
    "d_tree_stand = DecisionTreeClassifier()\n",
    "X_tree_train, X_tree_test = standardization(Xtrain=X_train, Xtest=X_test)\n",
    "d_tree_stand.fit(X_tree_train, y_train)\n",
    "\n",
    "# Predictions with standardized values\n",
    "tree_stand_pred = d_tree_stand.predict(X_tree_test)\n",
    "\n",
    "print(accuracy_score(y_test, tree_stand_pred))"
   ],
   "id": "4b72cdae25583ada",
   "outputs": [
    {
     "name": "stdout",
     "output_type": "stream",
     "text": [
      "income_annum         0\n",
      "cibil_score          0\n",
      "loan_amount          0\n",
      "loan_term            0\n",
      "self_employed_Yes    0\n",
      "dtype: int64\n",
      "0.9824355971896955\n"
     ]
    }
   ],
   "execution_count": 12
  },
  {
   "metadata": {
    "ExecuteTime": {
     "end_time": "2024-12-03T08:11:56.863580Z",
     "start_time": "2024-12-03T08:11:56.633136Z"
    }
   },
   "cell_type": "code",
   "source": [
    "# Calling the evaluate_model function and calculate the accuracy, precision, recall score and f1 score value for all models\n",
    "accuracy_knn, precision_knn, recall_knn, f1_knn = evaluate_model(y_test, knn_pred, \"KNN\")\n",
    "accuracy_tree, precision_tree, recall_tree, f1_tree = evaluate_model(y_test, tree_pred, \"Decision Tree\")\n",
    "accuracy_tree_s, precision_tree_s, recall_tree_s, f1_tree_s = evaluate_model(y_test, tree_stand_pred, \"Decision Tree Standardize\")\n",
    "\n",
    "# Feature importance from Decision Tree with the standardize values\n",
    "feature_importances = pd.DataFrame({\n",
    "    'Feature': X.columns,\n",
    "    'Importance': d_tree_stand.feature_importances_\n",
    "}).sort_values(by='Importance', ascending=False)\n",
    "\n",
    "print(\"Feature Importances from Decision Tree:\")\n",
    "print(feature_importances)\n",
    "print(\"-\" * 30)\n",
    "first_feature, first_importance = feature_importances.iloc[0]\n",
    "print(f\"Most Important Feature: {first_feature.strip()} with Importance: {first_importance:.4f}\")\n",
    "last_feature, last_importance = feature_importances.iloc[-1]\n",
    "print(f\"Least Important Feature: {last_feature.strip()} with Importance: {last_importance:.4f}\")"
   ],
   "id": "601ad97e64ce7b4f",
   "outputs": [
    {
     "name": "stdout",
     "output_type": "stream",
     "text": [
      "Evaluation metrics for KNN:\n",
      "Accuracy: 0.9496\n",
      "Precision: 0.9469\n",
      "Recall: 0.9452\n",
      "F1-Score: 0.9460\n",
      "------------------------------\n",
      "Evaluation metrics for Decision Tree:\n",
      "Accuracy: 0.9801\n",
      "Precision: 0.9784\n",
      "Recall: 0.9790\n",
      "F1-Score: 0.9787\n",
      "------------------------------\n",
      "Evaluation metrics for Decision Tree Standardize:\n",
      "Accuracy: 0.9824\n",
      "Precision: 0.9804\n",
      "Recall: 0.9822\n",
      "F1-Score: 0.9812\n",
      "------------------------------\n",
      "Feature Importances from Decision Tree:\n",
      "              Feature  Importance\n",
      "1         cibil_score    0.829847\n",
      "3           loan_term    0.082307\n",
      "2         loan_amount    0.049305\n",
      "0        income_annum    0.036520\n",
      "4   self_employed_Yes    0.002021\n",
      "------------------------------\n",
      "Most Important Feature: cibil_score with Importance: 0.8298\n",
      "Least Important Feature: self_employed_Yes with Importance: 0.0020\n"
     ]
    }
   ],
   "execution_count": 14
  },
  {
   "metadata": {},
   "cell_type": "code",
   "outputs": [],
   "execution_count": null,
   "source": "",
   "id": "8830bad2da8312ca"
  }
 ],
 "metadata": {
  "kernelspec": {
   "display_name": "Python 3",
   "language": "python",
   "name": "python3"
  },
  "language_info": {
   "codemirror_mode": {
    "name": "ipython",
    "version": 2
   },
   "file_extension": ".py",
   "mimetype": "text/x-python",
   "name": "python",
   "nbconvert_exporter": "python",
   "pygments_lexer": "ipython2",
   "version": "2.7.6"
  }
 },
 "nbformat": 4,
 "nbformat_minor": 5
}
